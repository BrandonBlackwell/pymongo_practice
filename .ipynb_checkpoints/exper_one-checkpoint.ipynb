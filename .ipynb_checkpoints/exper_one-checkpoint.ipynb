{
 "cells": [
  {
   "cell_type": "code",
   "execution_count": 29,
   "id": "fff5a3fa-269e-4b77-bf84-7f5c2df59c6e",
   "metadata": {},
   "outputs": [],
   "source": [
    "import pymongo\n",
    "from pymongo import MongoClient\n",
    "import pandas\n",
    "from faker import Faker\n",
    "from random import random, randint"
   ]
  },
  {
   "cell_type": "code",
   "execution_count": 15,
   "id": "3ace71ae-1456-462f-ac24-4b42e8a1cea9",
   "metadata": {},
   "outputs": [],
   "source": [
    "client = MongoClient(\"localhost\", 27017)\n",
    "db     = client.test\n",
    "student_collection = db.students"
   ]
  },
  {
   "cell_type": "code",
   "execution_count": 42,
   "id": "4987c4d8-cf75-4b95-9b54-8a3e29e51e9b",
   "metadata": {},
   "outputs": [],
   "source": [
    "person  = Faker()\n",
    "# name    = person.name()\n",
    "# email   = person.email()\n",
    "# dob     = person.date()\n",
    "# addy    = person.address()\n",
    "# message = person.text()\n",
    "# age     = randint(18, 30)\n",
    "# scores  = [round(random(), 2) for n in range(10)]\n",
    "student = {\n",
    "    \"name\": person.name(),\n",
    "    \"email\": person.email(),\n",
    "    \"dob\": person.date(),\n",
    "    \"addy\": person.address(),\n",
    "    \"message\": person.text(),\n",
    "    \"age\": randint(18, 30),\n",
    "    \"scores\": [round(random(), 2) for n in range(10)]\n",
    "}"
   ]
  },
  {
   "cell_type": "code",
   "execution_count": 43,
   "id": "597afc01-2203-4972-8e2b-93dafbc60c8a",
   "metadata": {},
   "outputs": [
    {
     "name": "stdout",
     "output_type": "stream",
     "text": [
      "{'name': 'Megan Short', 'email': 'cookvirginia@example.net', 'dob': '1985-01-25', 'addy': '90262 Richard Expressway\\nWest Danielmouth, RI 76944', 'message': 'Happen officer often writer customer draw. Nice stock like language news. Camera clear section focus girl level. Week rock reality summer.', 'age': 20, 'scores': [0.94, 0.62, 0.35, 0.37, 0.78, 0.68, 0.57, 0.6, 0.62, 0.72]}\n"
     ]
    }
   ],
   "source": [
    "print(student)"
   ]
  },
  {
   "cell_type": "code",
   "execution_count": 44,
   "id": "db764863-261a-4fe0-b9fe-f7f3240e4b1a",
   "metadata": {},
   "outputs": [
    {
     "data": {
      "text/plain": [
       "InsertOneResult(ObjectId('662caa8b3da50d9daaa6db6a'), acknowledged=True)"
      ]
     },
     "execution_count": 44,
     "metadata": {},
     "output_type": "execute_result"
    }
   ],
   "source": [
    "student_collection.insert_one(student)"
   ]
  },
  {
   "cell_type": "code",
   "execution_count": 46,
   "id": "027e7bd1-c85d-4888-8642-890ebe966bf2",
   "metadata": {},
   "outputs": [
    {
     "name": "stdout",
     "output_type": "stream",
     "text": [
      "{'_id': ObjectId('662caa8b3da50d9daaa6db6a'), 'name': 'Megan Short', 'email': 'cookvirginia@example.net', 'dob': '1985-01-25', 'addy': '90262 Richard Expressway\\nWest Danielmouth, RI 76944', 'message': 'Happen officer often writer customer draw. Nice stock like language news. Camera clear section focus girl level. Week rock reality summer.', 'age': 20, 'scores': [0.94, 0.62, 0.35, 0.37, 0.78, 0.68, 0.57, 0.6, 0.62, 0.72]}\n"
     ]
    }
   ],
   "source": [
    "cursor = student_collection.find({})\n",
    "for field in cursor:\n",
    "    print(field)"
   ]
  },
  {
   "cell_type": "code",
   "execution_count": null,
   "id": "4512866e-0783-4cb6-acc8-10cbb96ea5e8",
   "metadata": {},
   "outputs": [],
   "source": []
  }
 ],
 "metadata": {
  "kernelspec": {
   "display_name": "Python 3 (ipykernel)",
   "language": "python",
   "name": "python3"
  },
  "language_info": {
   "codemirror_mode": {
    "name": "ipython",
    "version": 3
   },
   "file_extension": ".py",
   "mimetype": "text/x-python",
   "name": "python",
   "nbconvert_exporter": "python",
   "pygments_lexer": "ipython3",
   "version": "3.10.13"
  }
 },
 "nbformat": 4,
 "nbformat_minor": 5
}
